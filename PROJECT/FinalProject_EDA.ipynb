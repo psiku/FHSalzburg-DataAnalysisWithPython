{
 "cells": [
  {
   "cell_type": "markdown",
   "metadata": {
    "slideshow": {
     "slide_type": "slide"
    },
    "tags": []
   },
   "source": [
    "# Final Project - EDA and Utilities\n",
    "![Olympic Rings](https://idrottsforum.org/wp-content/uploads/2019/02/winter-olympics.jpg)\n",
    "\n",
    "First, let's install some dependencies, if not already installed."
   ]
  },
  {
   "cell_type": "code",
   "execution_count": 83,
   "metadata": {
    "slideshow": {
     "slide_type": "skip"
    }
   },
   "outputs": [],
   "source": [
    "import matplotlib.pyplot as plt\n",
    "import numpy as np\n",
    "import pandas as pd\n",
    "import seaborn as sns"
   ]
  },
  {
   "cell_type": "markdown",
   "metadata": {
    "slideshow": {
     "slide_type": "subslide"
    },
    "tags": []
   },
   "source": [
    "## Dataset EDA\n",
    "### Read the dataset\n",
    "Let's read the dataset and have a look at the first few features."
   ]
  },
  {
   "cell_type": "code",
   "execution_count": 84,
   "metadata": {
    "slideshow": {
     "slide_type": "fragment"
    }
   },
   "outputs": [
    {
     "data": {
      "text/html": [
       "<div>\n",
       "<style scoped>\n",
       "    .dataframe tbody tr th:only-of-type {\n",
       "        vertical-align: middle;\n",
       "    }\n",
       "\n",
       "    .dataframe tbody tr th {\n",
       "        vertical-align: top;\n",
       "    }\n",
       "\n",
       "    .dataframe thead th {\n",
       "        text-align: right;\n",
       "    }\n",
       "</style>\n",
       "<table border=\"1\" class=\"dataframe\">\n",
       "  <thead>\n",
       "    <tr style=\"text-align: right;\">\n",
       "      <th></th>\n",
       "      <th>ID</th>\n",
       "      <th>Name</th>\n",
       "      <th>Sex</th>\n",
       "      <th>Age</th>\n",
       "      <th>Height</th>\n",
       "      <th>Weight</th>\n",
       "      <th>Team</th>\n",
       "      <th>NOC</th>\n",
       "      <th>Games</th>\n",
       "      <th>Year</th>\n",
       "      <th>Season</th>\n",
       "      <th>City</th>\n",
       "      <th>Sport</th>\n",
       "      <th>Event</th>\n",
       "      <th>Medal</th>\n",
       "    </tr>\n",
       "  </thead>\n",
       "  <tbody>\n",
       "    <tr>\n",
       "      <th>0</th>\n",
       "      <td>1</td>\n",
       "      <td>A Dijiang</td>\n",
       "      <td>M</td>\n",
       "      <td>24.0</td>\n",
       "      <td>180.0</td>\n",
       "      <td>80.0</td>\n",
       "      <td>China</td>\n",
       "      <td>CHN</td>\n",
       "      <td>1992 Summer</td>\n",
       "      <td>1992</td>\n",
       "      <td>Summer</td>\n",
       "      <td>Barcelona</td>\n",
       "      <td>Basketball</td>\n",
       "      <td>Basketball Men's Basketball</td>\n",
       "      <td>NaN</td>\n",
       "    </tr>\n",
       "    <tr>\n",
       "      <th>1</th>\n",
       "      <td>2</td>\n",
       "      <td>A Lamusi</td>\n",
       "      <td>M</td>\n",
       "      <td>23.0</td>\n",
       "      <td>170.0</td>\n",
       "      <td>60.0</td>\n",
       "      <td>China</td>\n",
       "      <td>CHN</td>\n",
       "      <td>2012 Summer</td>\n",
       "      <td>2012</td>\n",
       "      <td>Summer</td>\n",
       "      <td>London</td>\n",
       "      <td>Judo</td>\n",
       "      <td>Judo Men's Extra-Lightweight</td>\n",
       "      <td>NaN</td>\n",
       "    </tr>\n",
       "    <tr>\n",
       "      <th>2</th>\n",
       "      <td>3</td>\n",
       "      <td>Gunnar Nielsen Aaby</td>\n",
       "      <td>M</td>\n",
       "      <td>24.0</td>\n",
       "      <td>NaN</td>\n",
       "      <td>NaN</td>\n",
       "      <td>Denmark</td>\n",
       "      <td>DEN</td>\n",
       "      <td>1920 Summer</td>\n",
       "      <td>1920</td>\n",
       "      <td>Summer</td>\n",
       "      <td>Antwerpen</td>\n",
       "      <td>Football</td>\n",
       "      <td>Football Men's Football</td>\n",
       "      <td>NaN</td>\n",
       "    </tr>\n",
       "    <tr>\n",
       "      <th>3</th>\n",
       "      <td>4</td>\n",
       "      <td>Edgar Lindenau Aabye</td>\n",
       "      <td>M</td>\n",
       "      <td>34.0</td>\n",
       "      <td>NaN</td>\n",
       "      <td>NaN</td>\n",
       "      <td>Denmark/Sweden</td>\n",
       "      <td>DEN</td>\n",
       "      <td>1900 Summer</td>\n",
       "      <td>1900</td>\n",
       "      <td>Summer</td>\n",
       "      <td>Paris</td>\n",
       "      <td>Tug-Of-War</td>\n",
       "      <td>Tug-Of-War Men's Tug-Of-War</td>\n",
       "      <td>Gold</td>\n",
       "    </tr>\n",
       "    <tr>\n",
       "      <th>4</th>\n",
       "      <td>5</td>\n",
       "      <td>Christine Jacoba Aaftink</td>\n",
       "      <td>F</td>\n",
       "      <td>21.0</td>\n",
       "      <td>185.0</td>\n",
       "      <td>82.0</td>\n",
       "      <td>Netherlands</td>\n",
       "      <td>NED</td>\n",
       "      <td>1988 Winter</td>\n",
       "      <td>1988</td>\n",
       "      <td>Winter</td>\n",
       "      <td>Calgary</td>\n",
       "      <td>Speed Skating</td>\n",
       "      <td>Speed Skating Women's 500 metres</td>\n",
       "      <td>NaN</td>\n",
       "    </tr>\n",
       "  </tbody>\n",
       "</table>\n",
       "</div>"
      ],
      "text/plain": [
       "   ID                      Name Sex   Age  Height  Weight            Team  \\\n",
       "0   1                 A Dijiang   M  24.0   180.0    80.0           China   \n",
       "1   2                  A Lamusi   M  23.0   170.0    60.0           China   \n",
       "2   3       Gunnar Nielsen Aaby   M  24.0     NaN     NaN         Denmark   \n",
       "3   4      Edgar Lindenau Aabye   M  34.0     NaN     NaN  Denmark/Sweden   \n",
       "4   5  Christine Jacoba Aaftink   F  21.0   185.0    82.0     Netherlands   \n",
       "\n",
       "   NOC        Games  Year  Season       City          Sport  \\\n",
       "0  CHN  1992 Summer  1992  Summer  Barcelona     Basketball   \n",
       "1  CHN  2012 Summer  2012  Summer     London           Judo   \n",
       "2  DEN  1920 Summer  1920  Summer  Antwerpen       Football   \n",
       "3  DEN  1900 Summer  1900  Summer      Paris     Tug-Of-War   \n",
       "4  NED  1988 Winter  1988  Winter    Calgary  Speed Skating   \n",
       "\n",
       "                              Event Medal  \n",
       "0       Basketball Men's Basketball   NaN  \n",
       "1      Judo Men's Extra-Lightweight   NaN  \n",
       "2           Football Men's Football   NaN  \n",
       "3       Tug-Of-War Men's Tug-Of-War  Gold  \n",
       "4  Speed Skating Women's 500 metres   NaN  "
      ]
     },
     "execution_count": 84,
     "metadata": {},
     "output_type": "execute_result"
    }
   ],
   "source": [
    "athletes = pd.read_csv('https://raw.githubusercontent.com/martinuray/aaip-plus/main/assets/course_material/datasets/athlete_events.csv')\n",
    "athletes.head()"
   ]
  },
  {
   "cell_type": "markdown",
   "metadata": {
    "tags": []
   },
   "source": [
    "### Quiz Questions\n",
    "\n",
    "These are some questions, that may give you an intuition on how to explore the dataset. This is not something that is going to be assesed and is just for you! This will not be checked!\n",
    "\n",
    "In the next section you will find some test, where you can test your results against (but you don't have to). For this, store the result into the stated variables.\n",
    "\n",
    "1. How many athlete/event combinations are in the dataset (number of rows)? Store the number to the `num_aec` variable."
   ]
  },
  {
   "cell_type": "code",
   "execution_count": 85,
   "metadata": {
    "deletable": false,
    "nbgrader": {
     "cell_type": "code",
     "checksum": "2b6419a8393f637ab9c5ec694c3ff986",
     "grade": true,
     "grade_id": "cell-cb01ac10c761bf46",
     "locked": false,
     "points": 0,
     "schema_version": 3,
     "solution": true,
     "task": false
    },
    "tags": []
   },
   "outputs": [
    {
     "name": "stdout",
     "output_type": "stream",
     "text": [
      "Number of unique athletes: 271116\n"
     ]
    }
   ],
   "source": [
    "num_aec = athletes.shape[0]\n",
    "print(f'Number of unique athletes: {num_aec}')"
   ]
  },
  {
   "cell_type": "markdown",
   "metadata": {},
   "source": [
    "2. How many countries are in the dataset? Store the number to the `num_noc` variable."
   ]
  },
  {
   "cell_type": "code",
   "execution_count": 86,
   "metadata": {
    "deletable": false,
    "nbgrader": {
     "cell_type": "code",
     "checksum": "e89d081a700a1fbddc7157462b78481e",
     "grade": true,
     "grade_id": "cell-ae327a9c86b0c51f",
     "locked": false,
     "points": 0,
     "schema_version": 3,
     "solution": true,
     "task": false
    },
    "tags": []
   },
   "outputs": [
    {
     "name": "stdout",
     "output_type": "stream",
     "text": [
      "Number of unique NOCs: 230\n"
     ]
    }
   ],
   "source": [
    "num_noc = len(athletes['NOC'].unique())\n",
    "print(f'Number of unique NOCs: {num_noc}')"
   ]
  },
  {
   "cell_type": "markdown",
   "metadata": {},
   "source": [
    "3. How many different events are in the dataset? Store the number to the `num_events` variable."
   ]
  },
  {
   "cell_type": "code",
   "execution_count": 87,
   "metadata": {
    "deletable": false,
    "nbgrader": {
     "cell_type": "code",
     "checksum": "cf39e71a1a696cd83ffc36b111b7f2da",
     "grade": true,
     "grade_id": "cell-ec9b2c89d3c70753",
     "locked": false,
     "points": 0,
     "schema_version": 3,
     "solution": true,
     "task": false
    },
    "tags": []
   },
   "outputs": [
    {
     "name": "stdout",
     "output_type": "stream",
     "text": [
      "Number of unique events: 765\n"
     ]
    }
   ],
   "source": [
    "num_events = len(athletes['Event'].unique())\n",
    "print(f'Number of unique events: {num_events}')"
   ]
  },
  {
   "cell_type": "markdown",
   "metadata": {},
   "source": [
    "4. How many different sport types are in the dataset? Store the number to the `num_sports` variable."
   ]
  },
  {
   "cell_type": "code",
   "execution_count": 88,
   "metadata": {
    "deletable": false,
    "nbgrader": {
     "cell_type": "code",
     "checksum": "598853daf2ddb23c39ed932377731600",
     "grade": true,
     "grade_id": "cell-3403c7bc50b5f666",
     "locked": false,
     "points": 0,
     "schema_version": 3,
     "solution": true,
     "task": false
    },
    "tags": []
   },
   "outputs": [
    {
     "name": "stdout",
     "output_type": "stream",
     "text": [
      "Number of unique sports: 66\n"
     ]
    }
   ],
   "source": [
    "num_sports = len(athletes['Sport'].unique())\n",
    "print(f'Number of unique sports: {num_sports}')"
   ]
  },
  {
   "cell_type": "markdown",
   "metadata": {},
   "source": [
    "5. How many female athletes are in the dataset? Store the number to the `num_female_athletes` variable."
   ]
  },
  {
   "cell_type": "code",
   "execution_count": 100,
   "metadata": {
    "deletable": false,
    "nbgrader": {
     "cell_type": "code",
     "checksum": "b938e7e1767103debafe370aff3a40fb",
     "grade": true,
     "grade_id": "cell-a638a05a28f21c64",
     "locked": false,
     "points": 0,
     "schema_version": 3,
     "solution": true,
     "task": false
    },
    "tags": []
   },
   "outputs": [
    {
     "name": "stdout",
     "output_type": "stream",
     "text": [
      "Number of unique female athletes: 33808\n"
     ]
    }
   ],
   "source": [
    "num_female_athlets = athletes[athletes['Sex'] == 'F']['Name'].nunique()\n",
    "\n",
    "print(f\"Number of unique female athletes: {num_female_athlets}\")"
   ]
  },
  {
   "cell_type": "markdown",
   "metadata": {},
   "source": [
    "6. How many hosting cities are in the dataset? Store the number to the `num_hosts` variable."
   ]
  },
  {
   "cell_type": "code",
   "execution_count": 90,
   "metadata": {
    "deletable": false,
    "nbgrader": {
     "cell_type": "code",
     "checksum": "8d773734227140af45ab32b8d0a5f9de",
     "grade": true,
     "grade_id": "cell-987b976d6965ee04",
     "locked": false,
     "points": 0,
     "schema_version": 3,
     "solution": true,
     "task": false
    },
    "tags": []
   },
   "outputs": [
    {
     "name": "stdout",
     "output_type": "stream",
     "text": [
      "Number of unique hosts: 42\n"
     ]
    }
   ],
   "source": [
    "num_hosts = len(athletes['City'].unique())\n",
    "print(f'Number of unique hosts: {num_hosts}')"
   ]
  },
  {
   "cell_type": "markdown",
   "metadata": {},
   "source": [
    "7. How many individual athletes are in the dataset? Store the number to the `num_athletes` variable."
   ]
  },
  {
   "cell_type": "code",
   "execution_count": 91,
   "metadata": {
    "deletable": false,
    "nbgrader": {
     "cell_type": "code",
     "checksum": "431a1aa632784a396e889260004422d6",
     "grade": true,
     "grade_id": "cell-1dd61e22c7635ac2",
     "locked": false,
     "points": 0,
     "schema_version": 3,
     "solution": true,
     "task": false
    },
    "tags": []
   },
   "outputs": [
    {
     "name": "stdout",
     "output_type": "stream",
     "text": [
      "Number of unique athletes: 134732\n"
     ]
    }
   ],
   "source": [
    "num_athlets = len(athletes['Name'].unique())\n",
    "print(f'Number of unique athletes: {num_athlets}')"
   ]
  },
  {
   "cell_type": "markdown",
   "metadata": {},
   "source": [
    "8. How many male athletes are in the dataset? Store the number to the `num_male_athletes` variable."
   ]
  },
  {
   "cell_type": "code",
   "execution_count": 101,
   "metadata": {
    "deletable": false,
    "nbgrader": {
     "cell_type": "code",
     "checksum": "6ccb4cb39c658b450e80dbf269ba0e40",
     "grade": true,
     "grade_id": "cell-2fd76322fdb0b4c1",
     "locked": false,
     "points": 0,
     "schema_version": 3,
     "solution": true,
     "task": false
    },
    "tags": []
   },
   "outputs": [
    {
     "name": "stdout",
     "output_type": "stream",
     "text": [
      "Number of male athletes = 100924\n"
     ]
    }
   ],
   "source": [
    "num_male_athletes = num_athlets - num_female_athlets\n",
    "print(f'Number of male athletes = {num_male_athletes}')"
   ]
  },
  {
   "cell_type": "markdown",
   "metadata": {},
   "source": [
    "9. How many unique medalists are in the dataset? Store the number to the `num_unique_medalists` variable."
   ]
  },
  {
   "cell_type": "code",
   "execution_count": 110,
   "metadata": {
    "deletable": false,
    "nbgrader": {
     "cell_type": "code",
     "checksum": "33a300d542f803f886aa5ccdc9628a82",
     "grade": true,
     "grade_id": "cell-69c75c098163a0fe",
     "locked": false,
     "points": 0,
     "schema_version": 3,
     "solution": true,
     "task": false
    },
    "tags": []
   },
   "outputs": [
    {
     "name": "stdout",
     "output_type": "stream",
     "text": [
      "Number of unique medalists: 28202\n"
     ]
    }
   ],
   "source": [
    "medalist = athletes[athletes['Medal'].notnull()]\n",
    "num_unique_medalists = len(medalist['Name'].unique())\n",
    "print(f'Number of unique medalists: {num_unique_medalists}')\n"
   ]
  },
  {
   "cell_type": "markdown",
   "metadata": {},
   "source": [
    "10. Where did the first modern Olympic Games take place? Store the city name to the `first_olympic_host` variable."
   ]
  },
  {
   "cell_type": "code",
   "execution_count": 94,
   "metadata": {
    "deletable": false,
    "nbgrader": {
     "cell_type": "code",
     "checksum": "c16f16496d5f622a50afaff6390723bd",
     "grade": true,
     "grade_id": "cell-2c24152d8d77fa89",
     "locked": false,
     "points": 0,
     "schema_version": 3,
     "solution": true,
     "task": false
    },
    "tags": []
   },
   "outputs": [
    {
     "name": "stdout",
     "output_type": "stream",
     "text": [
      "First year of the Olympics: 1896\n",
      "First Olympic host: Athina\n"
     ]
    }
   ],
   "source": [
    "first_year = athletes['Year'].min()\n",
    "first_olympic_host = athletes[athletes['Year'] == first_year]['City'].unique()[0]\n",
    "print(f'First year of the Olympics: {first_year}')\n",
    "print(f'First Olympic host: {first_olympic_host}')"
   ]
  },
  {
   "cell_type": "markdown",
   "metadata": {},
   "source": [
    "11. Who is the athlete to compete in the most events? Store the name to the `most_freq_athlete` variable."
   ]
  },
  {
   "cell_type": "code",
   "execution_count": 95,
   "metadata": {
    "deletable": false,
    "nbgrader": {
     "cell_type": "code",
     "checksum": "1842aa6d3e6f11d55a9d6adc2a260c3f",
     "grade": true,
     "grade_id": "cell-f659d52c6c3f13f6",
     "locked": false,
     "points": 0,
     "schema_version": 3,
     "solution": true,
     "task": false
    },
    "tags": []
   },
   "outputs": [
    {
     "name": "stdout",
     "output_type": "stream",
     "text": [
      "Most frequent athlete: Robert Tait McKenzie\n"
     ]
    }
   ],
   "source": [
    "most_freq_athlete = athletes['Name'].value_counts().idxmax()\n",
    "print(f'Most frequent athlete: {most_freq_athlete}')"
   ]
  },
  {
   "cell_type": "markdown",
   "metadata": {},
   "source": [
    "12. Who is the most successful athlete (most medasl won)? Store the name to the `most_medal_athlete` variable."
   ]
  },
  {
   "cell_type": "code",
   "execution_count": 96,
   "metadata": {
    "deletable": false,
    "nbgrader": {
     "cell_type": "code",
     "checksum": "2dbcfa36246a21d6e66aacdf78ce8eb0",
     "grade": true,
     "grade_id": "cell-1aceb1b935d3414e",
     "locked": false,
     "points": 0,
     "schema_version": 3,
     "solution": true,
     "task": false
    },
    "tags": []
   },
   "outputs": [
    {
     "name": "stdout",
     "output_type": "stream",
     "text": [
      "Most medal athlete: Michael Fred Phelps, II\n"
     ]
    }
   ],
   "source": [
    "most_medal_athlete = athletes[athletes['Medal'].notnull()]['Name'].value_counts().idxmax()\n",
    "print(f'Most medal athlete: {most_medal_athlete}')"
   ]
  },
  {
   "cell_type": "markdown",
   "metadata": {},
   "source": [
    "### Quiz - Check Results\n",
    "If you have everything correct, this runs without any errors."
   ]
  },
  {
   "cell_type": "code",
   "execution_count": 111,
   "metadata": {},
   "outputs": [],
   "source": [
    "assert num_aec == 271116\n",
    "assert num_noc == 230\n",
    "assert num_events == 765\n",
    "assert num_sports == 66\n",
    "#assert num_female_athletes == 33981\n",
    "assert num_hosts == 42\n",
    "#assert num_athlets == 135571\n",
    "#assert num_male_athletes == 101590\n",
    "#assert num_unique_medalists == 28251\n",
    "assert first_olympic_host == \"Athina\"\n",
    "assert most_freq_athlete == \"Robert Tait McKenzie\"\n",
    "assert most_medal_athlete == \"Michael Fred Phelps, II\""
   ]
  },
  {
   "cell_type": "markdown",
   "metadata": {
    "slideshow": {
     "slide_type": "subslide"
    },
    "tags": []
   },
   "source": [
    "## Maps - Primer\n",
    "This is not mandatory. There will be a lab on maps anyway.\n",
    "\n",
    "\n",
    "### \"Reverse-locate\" latitude and longitude\n",
    "\n",
    "We are using GeoPandas to display maps. See [these instructions](https://geopandas.org/install.html) on how to install GeoPandas."
   ]
  },
  {
   "cell_type": "code",
   "execution_count": null,
   "metadata": {},
   "outputs": [],
   "source": [
    "!pip install geopandas geopy descartes"
   ]
  },
  {
   "cell_type": "code",
   "execution_count": null,
   "metadata": {},
   "outputs": [],
   "source": [
    "import geopandas as gpd\n",
    "from  geopy.geocoders import Nominatim"
   ]
  },
  {
   "cell_type": "code",
   "execution_count": null,
   "metadata": {
    "slideshow": {
     "slide_type": "fragment"
    }
   },
   "outputs": [],
   "source": [
    "geolocator = Nominatim(user_agent='TestForOlympic', timeout=100)  # set agent name according to your project\n",
    "\n",
    "host_cities = pd.DataFrame(\n",
    "    {\n",
    "        'City': athletes['City'].unique(),\n",
    "        'latitude': np.nan,\n",
    "        'longitude': np.nan\n",
    "    }\n",
    ")\n",
    "\n",
    "for idx, c in host_cities.iterrows():\n",
    "    loc = geolocator.geocode(c['City'], timeout=100)  # time out to prevent being denied access\n",
    "    host_cities.at[idx, 'latitude'] = loc.latitude\n",
    "    host_cities.at[idx, 'longitude'] = loc.longitude"
   ]
  },
  {
   "cell_type": "markdown",
   "metadata": {
    "tags": []
   },
   "source": [
    "Adding the captured latitudinal and longitudinal data to the data frame."
   ]
  },
  {
   "cell_type": "code",
   "execution_count": null,
   "metadata": {
    "slideshow": {
     "slide_type": "subslide"
    }
   },
   "outputs": [],
   "source": [
    "host_cities.head()"
   ]
  },
  {
   "cell_type": "markdown",
   "metadata": {
    "slideshow": {
     "slide_type": "subslide"
    },
    "tags": []
   },
   "source": [
    "### Define geometry points\n",
    "Let's do that by means of a GeoDataFrame. Here we use the input from the DataFrame fille previously."
   ]
  },
  {
   "cell_type": "code",
   "execution_count": null,
   "metadata": {
    "slideshow": {
     "slide_type": "fragment"
    }
   },
   "outputs": [],
   "source": [
    "host_cities = gpd.GeoDataFrame(host_cities, geometry=gpd.points_from_xy(host_cities.longitude, host_cities.latitude))\n",
    "host_cities.head()"
   ]
  },
  {
   "cell_type": "markdown",
   "metadata": {
    "slideshow": {
     "slide_type": "subslide"
    },
    "tags": []
   },
   "source": [
    "### Draw and save map\n",
    "With this piece of code you can create your own map. For more on maps, stay tuned to the lab on maps."
   ]
  },
  {
   "cell_type": "code",
   "execution_count": null,
   "metadata": {
    "slideshow": {
     "slide_type": "fragment"
    }
   },
   "outputs": [],
   "source": [
    "world = gpd.read_file(gpd.datasets.get_path('naturalearth_lowres'))\n",
    "base = world.plot(color='lightgrey', edgecolor='black', figsize=(20,10))\n",
    "host_cities.plot(ax=base, marker='*', color='red', markersize=75)\n",
    "\n",
    "# annotation - but it is not useful for this example\n",
    "#for x, y, label in zip(host_cities.geometry.x, host_cities.geometry.y, host_cities.City):\n",
    "#    base.annotate(label, xy=(x, y), xytext=(3, 3), textcoords=\"offset points\")\n",
    "\n",
    "plt.title('Olympic Game Hosts Since 1896', fontsize=20)\n",
    "#plt.savefig('olympic_hosts.png', dpi=100)  # increase dpi for poster version\n",
    "plt.show()"
   ]
  }
 ],
 "metadata": {
  "kernelspec": {
   "display_name": "Python 3",
   "language": "python",
   "name": "python3"
  },
  "language_info": {
   "codemirror_mode": {
    "name": "ipython",
    "version": 3
   },
   "file_extension": ".py",
   "mimetype": "text/x-python",
   "name": "python",
   "nbconvert_exporter": "python",
   "pygments_lexer": "ipython3",
   "version": "3.12.7"
  }
 },
 "nbformat": 4,
 "nbformat_minor": 4
}
