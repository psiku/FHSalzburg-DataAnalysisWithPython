{
 "cells": [
  {
   "cell_type": "markdown",
   "metadata": {},
   "source": [
    "### Libraries"
   ]
  },
  {
   "cell_type": "code",
   "execution_count": 1,
   "metadata": {},
   "outputs": [],
   "source": [
    "import numpy as np\n",
    "import pandas as pd\n",
    "import matplotlib.pyplot as plt\n",
    "import seaborn as sns"
   ]
  },
  {
   "cell_type": "markdown",
   "metadata": {},
   "source": [
    "# Data Loading and Selection Methods "
   ]
  },
  {
   "cell_type": "markdown",
   "metadata": {},
   "source": [
    "### Loading the dataset"
   ]
  },
  {
   "cell_type": "code",
   "execution_count": 2,
   "metadata": {},
   "outputs": [
    {
     "data": {
      "text/html": [
       "<div>\n",
       "<style scoped>\n",
       "    .dataframe tbody tr th:only-of-type {\n",
       "        vertical-align: middle;\n",
       "    }\n",
       "\n",
       "    .dataframe tbody tr th {\n",
       "        vertical-align: top;\n",
       "    }\n",
       "\n",
       "    .dataframe thead th {\n",
       "        text-align: right;\n",
       "    }\n",
       "</style>\n",
       "<table border=\"1\" class=\"dataframe\">\n",
       "  <thead>\n",
       "    <tr style=\"text-align: right;\">\n",
       "      <th></th>\n",
       "      <th>PassengerId</th>\n",
       "      <th>Survived</th>\n",
       "      <th>Pclass</th>\n",
       "      <th>Name</th>\n",
       "      <th>Sex</th>\n",
       "      <th>Age</th>\n",
       "      <th>SibSp</th>\n",
       "      <th>Parch</th>\n",
       "      <th>Ticket</th>\n",
       "      <th>Fare</th>\n",
       "      <th>Cabin</th>\n",
       "      <th>Embarked</th>\n",
       "    </tr>\n",
       "  </thead>\n",
       "  <tbody>\n",
       "    <tr>\n",
       "      <th>0</th>\n",
       "      <td>1</td>\n",
       "      <td>0</td>\n",
       "      <td>3</td>\n",
       "      <td>Braund, Mr. Owen Harris</td>\n",
       "      <td>male</td>\n",
       "      <td>22.0</td>\n",
       "      <td>1</td>\n",
       "      <td>0</td>\n",
       "      <td>A/5 21171</td>\n",
       "      <td>7.2500</td>\n",
       "      <td>NaN</td>\n",
       "      <td>S</td>\n",
       "    </tr>\n",
       "    <tr>\n",
       "      <th>1</th>\n",
       "      <td>2</td>\n",
       "      <td>1</td>\n",
       "      <td>1</td>\n",
       "      <td>Cumings, Mrs. John Bradley (Florence Briggs Th...</td>\n",
       "      <td>female</td>\n",
       "      <td>38.0</td>\n",
       "      <td>1</td>\n",
       "      <td>0</td>\n",
       "      <td>PC 17599</td>\n",
       "      <td>71.2833</td>\n",
       "      <td>C85</td>\n",
       "      <td>C</td>\n",
       "    </tr>\n",
       "    <tr>\n",
       "      <th>2</th>\n",
       "      <td>3</td>\n",
       "      <td>1</td>\n",
       "      <td>3</td>\n",
       "      <td>Heikkinen, Miss. Laina</td>\n",
       "      <td>female</td>\n",
       "      <td>26.0</td>\n",
       "      <td>0</td>\n",
       "      <td>0</td>\n",
       "      <td>STON/O2. 3101282</td>\n",
       "      <td>7.9250</td>\n",
       "      <td>NaN</td>\n",
       "      <td>S</td>\n",
       "    </tr>\n",
       "    <tr>\n",
       "      <th>3</th>\n",
       "      <td>4</td>\n",
       "      <td>1</td>\n",
       "      <td>1</td>\n",
       "      <td>Futrelle, Mrs. Jacques Heath (Lily May Peel)</td>\n",
       "      <td>female</td>\n",
       "      <td>35.0</td>\n",
       "      <td>1</td>\n",
       "      <td>0</td>\n",
       "      <td>113803</td>\n",
       "      <td>53.1000</td>\n",
       "      <td>C123</td>\n",
       "      <td>S</td>\n",
       "    </tr>\n",
       "    <tr>\n",
       "      <th>4</th>\n",
       "      <td>5</td>\n",
       "      <td>0</td>\n",
       "      <td>3</td>\n",
       "      <td>Allen, Mr. William Henry</td>\n",
       "      <td>male</td>\n",
       "      <td>35.0</td>\n",
       "      <td>0</td>\n",
       "      <td>0</td>\n",
       "      <td>373450</td>\n",
       "      <td>8.0500</td>\n",
       "      <td>NaN</td>\n",
       "      <td>S</td>\n",
       "    </tr>\n",
       "    <tr>\n",
       "      <th>5</th>\n",
       "      <td>6</td>\n",
       "      <td>0</td>\n",
       "      <td>3</td>\n",
       "      <td>Moran, Mr. James</td>\n",
       "      <td>male</td>\n",
       "      <td>NaN</td>\n",
       "      <td>0</td>\n",
       "      <td>0</td>\n",
       "      <td>330877</td>\n",
       "      <td>8.4583</td>\n",
       "      <td>NaN</td>\n",
       "      <td>Q</td>\n",
       "    </tr>\n",
       "    <tr>\n",
       "      <th>6</th>\n",
       "      <td>7</td>\n",
       "      <td>0</td>\n",
       "      <td>1</td>\n",
       "      <td>McCarthy, Mr. Timothy J</td>\n",
       "      <td>male</td>\n",
       "      <td>54.0</td>\n",
       "      <td>0</td>\n",
       "      <td>0</td>\n",
       "      <td>17463</td>\n",
       "      <td>51.8625</td>\n",
       "      <td>E46</td>\n",
       "      <td>S</td>\n",
       "    </tr>\n",
       "    <tr>\n",
       "      <th>7</th>\n",
       "      <td>8</td>\n",
       "      <td>0</td>\n",
       "      <td>3</td>\n",
       "      <td>Palsson, Master. Gosta Leonard</td>\n",
       "      <td>male</td>\n",
       "      <td>2.0</td>\n",
       "      <td>3</td>\n",
       "      <td>1</td>\n",
       "      <td>349909</td>\n",
       "      <td>21.0750</td>\n",
       "      <td>NaN</td>\n",
       "      <td>S</td>\n",
       "    </tr>\n",
       "    <tr>\n",
       "      <th>8</th>\n",
       "      <td>9</td>\n",
       "      <td>1</td>\n",
       "      <td>3</td>\n",
       "      <td>Johnson, Mrs. Oscar W (Elisabeth Vilhelmina Berg)</td>\n",
       "      <td>female</td>\n",
       "      <td>27.0</td>\n",
       "      <td>0</td>\n",
       "      <td>2</td>\n",
       "      <td>347742</td>\n",
       "      <td>11.1333</td>\n",
       "      <td>NaN</td>\n",
       "      <td>S</td>\n",
       "    </tr>\n",
       "    <tr>\n",
       "      <th>9</th>\n",
       "      <td>10</td>\n",
       "      <td>1</td>\n",
       "      <td>2</td>\n",
       "      <td>Nasser, Mrs. Nicholas (Adele Achem)</td>\n",
       "      <td>female</td>\n",
       "      <td>14.0</td>\n",
       "      <td>1</td>\n",
       "      <td>0</td>\n",
       "      <td>237736</td>\n",
       "      <td>30.0708</td>\n",
       "      <td>NaN</td>\n",
       "      <td>C</td>\n",
       "    </tr>\n",
       "  </tbody>\n",
       "</table>\n",
       "</div>"
      ],
      "text/plain": [
       "   PassengerId  Survived  Pclass  \\\n",
       "0            1         0       3   \n",
       "1            2         1       1   \n",
       "2            3         1       3   \n",
       "3            4         1       1   \n",
       "4            5         0       3   \n",
       "5            6         0       3   \n",
       "6            7         0       1   \n",
       "7            8         0       3   \n",
       "8            9         1       3   \n",
       "9           10         1       2   \n",
       "\n",
       "                                                Name     Sex   Age  SibSp  \\\n",
       "0                            Braund, Mr. Owen Harris    male  22.0      1   \n",
       "1  Cumings, Mrs. John Bradley (Florence Briggs Th...  female  38.0      1   \n",
       "2                             Heikkinen, Miss. Laina  female  26.0      0   \n",
       "3       Futrelle, Mrs. Jacques Heath (Lily May Peel)  female  35.0      1   \n",
       "4                           Allen, Mr. William Henry    male  35.0      0   \n",
       "5                                   Moran, Mr. James    male   NaN      0   \n",
       "6                            McCarthy, Mr. Timothy J    male  54.0      0   \n",
       "7                     Palsson, Master. Gosta Leonard    male   2.0      3   \n",
       "8  Johnson, Mrs. Oscar W (Elisabeth Vilhelmina Berg)  female  27.0      0   \n",
       "9                Nasser, Mrs. Nicholas (Adele Achem)  female  14.0      1   \n",
       "\n",
       "   Parch            Ticket     Fare Cabin Embarked  \n",
       "0      0         A/5 21171   7.2500   NaN        S  \n",
       "1      0          PC 17599  71.2833   C85        C  \n",
       "2      0  STON/O2. 3101282   7.9250   NaN        S  \n",
       "3      0            113803  53.1000  C123        S  \n",
       "4      0            373450   8.0500   NaN        S  \n",
       "5      0            330877   8.4583   NaN        Q  \n",
       "6      0             17463  51.8625   E46        S  \n",
       "7      1            349909  21.0750   NaN        S  \n",
       "8      2            347742  11.1333   NaN        S  \n",
       "9      0            237736  30.0708   NaN        C  "
      ]
     },
     "execution_count": 2,
     "metadata": {},
     "output_type": "execute_result"
    }
   ],
   "source": [
    "dataset_path = 'titanic.csv'\n",
    "\n",
    "df = pd.read_csv(dataset_path)\n",
    "\n",
    "df.head(10)"
   ]
  },
  {
   "cell_type": "markdown",
   "metadata": {},
   "source": [
    "### How many passengers have embarked in Southampton?"
   ]
  },
  {
   "cell_type": "code",
   "execution_count": 3,
   "metadata": {},
   "outputs": [
    {
     "name": "stdout",
     "output_type": "stream",
     "text": [
      "Embarked\n",
      "S    644\n",
      "C    168\n",
      "Q     77\n",
      "Name: count, dtype: int64\n",
      " \n",
      "644 people embarked in Southampton\n"
     ]
    }
   ],
   "source": [
    "# 1 - We can check the value counts of the 'Embarked' column to see the most common value\n",
    "value_counts = df['Embarked'].value_counts()\n",
    "print(value_counts)\n",
    "print(\" \")\n",
    "\n",
    "# 2 - We can just show the values from the 'Embarked' == 'S' column\n",
    "emabrked_in_southampton = df['Embarked'].value_counts()['S']\n",
    "print(f\"{emabrked_in_southampton} people embarked in Southampton\")"
   ]
  },
  {
   "cell_type": "markdown",
   "metadata": {},
   "source": [
    "### What was the price of the most expensive ticket? Find out the name(s) of the passenger(s) who bought them.\n"
   ]
  },
  {
   "cell_type": "code",
   "execution_count": 4,
   "metadata": {},
   "outputs": [
    {
     "name": "stdout",
     "output_type": "stream",
     "text": [
      "The most expensive ticket price is 512.3292 GBP\n"
     ]
    },
    {
     "data": {
      "text/html": [
       "<div>\n",
       "<style scoped>\n",
       "    .dataframe tbody tr th:only-of-type {\n",
       "        vertical-align: middle;\n",
       "    }\n",
       "\n",
       "    .dataframe tbody tr th {\n",
       "        vertical-align: top;\n",
       "    }\n",
       "\n",
       "    .dataframe thead th {\n",
       "        text-align: right;\n",
       "    }\n",
       "</style>\n",
       "<table border=\"1\" class=\"dataframe\">\n",
       "  <thead>\n",
       "    <tr style=\"text-align: right;\">\n",
       "      <th></th>\n",
       "      <th>PassengerId</th>\n",
       "      <th>Name</th>\n",
       "      <th>Fare</th>\n",
       "    </tr>\n",
       "  </thead>\n",
       "  <tbody>\n",
       "    <tr>\n",
       "      <th>258</th>\n",
       "      <td>259</td>\n",
       "      <td>Ward, Miss. Anna</td>\n",
       "      <td>512.3292</td>\n",
       "    </tr>\n",
       "    <tr>\n",
       "      <th>679</th>\n",
       "      <td>680</td>\n",
       "      <td>Cardeza, Mr. Thomas Drake Martinez</td>\n",
       "      <td>512.3292</td>\n",
       "    </tr>\n",
       "    <tr>\n",
       "      <th>737</th>\n",
       "      <td>738</td>\n",
       "      <td>Lesurer, Mr. Gustave J</td>\n",
       "      <td>512.3292</td>\n",
       "    </tr>\n",
       "  </tbody>\n",
       "</table>\n",
       "</div>"
      ],
      "text/plain": [
       "     PassengerId                                Name      Fare\n",
       "258          259                    Ward, Miss. Anna  512.3292\n",
       "679          680  Cardeza, Mr. Thomas Drake Martinez  512.3292\n",
       "737          738              Lesurer, Mr. Gustave J  512.3292"
      ]
     },
     "execution_count": 4,
     "metadata": {},
     "output_type": "execute_result"
    }
   ],
   "source": [
    "# price of most expensive ticket\n",
    "most_expensive_ticket_price = df['Fare'].max()\n",
    "print(f\"The most expensive ticket price is {most_expensive_ticket_price} GBP\")\n",
    "\n",
    "# ids of people who bought the most expensive ticket\n",
    "passenger_ids = df[df['Fare'] == most_expensive_ticket_price][['PassengerId', 'Name', 'Fare', ]]\n",
    "passenger_ids.head()"
   ]
  },
  {
   "cell_type": "code",
   "execution_count": 5,
   "metadata": {},
   "outputs": [
    {
     "name": "stdout",
     "output_type": "stream",
     "text": [
      "Passengers who bought the most expensive ticket:\n",
      "Passenger Ward, Miss. Anna : 512.3292 GBP\n",
      "Passenger Cardeza, Mr. Thomas Drake Martinez : 512.3292 GBP\n",
      "Passenger Lesurer, Mr. Gustave J : 512.3292 GBP\n"
     ]
    }
   ],
   "source": [
    "print(\"Passengers who bought the most expensive ticket:\")\n",
    "for name in passenger_ids['Name']:\n",
    "    print(f\"Passenger {name} : {most_expensive_ticket_price} GBP\")"
   ]
  },
  {
   "cell_type": "markdown",
   "metadata": {},
   "source": [
    "### Who were the youngest passengers? Find out their name(s) and age(s)."
   ]
  },
  {
   "cell_type": "code",
   "execution_count": 6,
   "metadata": {},
   "outputs": [
    {
     "name": "stdout",
     "output_type": "stream",
     "text": [
      "The minimal age is 0.42\n"
     ]
    },
    {
     "data": {
      "text/html": [
       "<div>\n",
       "<style scoped>\n",
       "    .dataframe tbody tr th:only-of-type {\n",
       "        vertical-align: middle;\n",
       "    }\n",
       "\n",
       "    .dataframe tbody tr th {\n",
       "        vertical-align: top;\n",
       "    }\n",
       "\n",
       "    .dataframe thead th {\n",
       "        text-align: right;\n",
       "    }\n",
       "</style>\n",
       "<table border=\"1\" class=\"dataframe\">\n",
       "  <thead>\n",
       "    <tr style=\"text-align: right;\">\n",
       "      <th></th>\n",
       "      <th>PassengerId</th>\n",
       "      <th>Name</th>\n",
       "      <th>Age</th>\n",
       "    </tr>\n",
       "  </thead>\n",
       "  <tbody>\n",
       "    <tr>\n",
       "      <th>803</th>\n",
       "      <td>804</td>\n",
       "      <td>Thomas, Master. Assad Alexander</td>\n",
       "      <td>0.42</td>\n",
       "    </tr>\n",
       "  </tbody>\n",
       "</table>\n",
       "</div>"
      ],
      "text/plain": [
       "     PassengerId                             Name   Age\n",
       "803          804  Thomas, Master. Assad Alexander  0.42"
      ]
     },
     "execution_count": 6,
     "metadata": {},
     "output_type": "execute_result"
    }
   ],
   "source": [
    "# the minimal age\n",
    "minimal_age = df['Age'].min()\n",
    "print(f\"The minimal age is {minimal_age}\")\n",
    "\n",
    "# the passengers who has the minimal age\n",
    "minimal_age_passengers = df[df['Age'] == minimal_age][['PassengerId', 'Name', 'Age']]\n",
    "minimal_age_passengers.head()"
   ]
  },
  {
   "cell_type": "code",
   "execution_count": 7,
   "metadata": {},
   "outputs": [
    {
     "name": "stdout",
     "output_type": "stream",
     "text": [
      "Passengers who has the minimal age is Thomas, Master. Assad Alexander\n"
     ]
    }
   ],
   "source": [
    "# name of th eyoungest passenger\n",
    "minimal_age_name = minimal_age_passengers['Name'].values[0]\n",
    "\n",
    "print(f\"Passengers who has the minimal age is {minimal_age_name}\")"
   ]
  },
  {
   "cell_type": "markdown",
   "metadata": {},
   "source": [
    "### Who was/were the oldest passenger(s) who died during the trip? Find out their name(s) and age(s)."
   ]
  },
  {
   "cell_type": "code",
   "execution_count": 8,
   "metadata": {},
   "outputs": [
    {
     "name": "stdout",
     "output_type": "stream",
     "text": [
      "The oldest passangers who died is 74.0 yrs old\n"
     ]
    }
   ],
   "source": [
    "# oldest passangers who died\n",
    "oldst_passengers_who_died_age = df[df['Survived'] == 0][\"Age\"].max()\n",
    "print(f\"The oldest passangers who died is {oldst_passengers_who_died_age} yrs old\")"
   ]
  },
  {
   "cell_type": "code",
   "execution_count": 9,
   "metadata": {},
   "outputs": [
    {
     "data": {
      "text/html": [
       "<div>\n",
       "<style scoped>\n",
       "    .dataframe tbody tr th:only-of-type {\n",
       "        vertical-align: middle;\n",
       "    }\n",
       "\n",
       "    .dataframe tbody tr th {\n",
       "        vertical-align: top;\n",
       "    }\n",
       "\n",
       "    .dataframe thead th {\n",
       "        text-align: right;\n",
       "    }\n",
       "</style>\n",
       "<table border=\"1\" class=\"dataframe\">\n",
       "  <thead>\n",
       "    <tr style=\"text-align: right;\">\n",
       "      <th></th>\n",
       "      <th>PassengerId</th>\n",
       "      <th>Name</th>\n",
       "      <th>Age</th>\n",
       "    </tr>\n",
       "  </thead>\n",
       "  <tbody>\n",
       "    <tr>\n",
       "      <th>851</th>\n",
       "      <td>852</td>\n",
       "      <td>Svensson, Mr. Johan</td>\n",
       "      <td>74.0</td>\n",
       "    </tr>\n",
       "  </tbody>\n",
       "</table>\n",
       "</div>"
      ],
      "text/plain": [
       "     PassengerId                 Name   Age\n",
       "851          852  Svensson, Mr. Johan  74.0"
      ]
     },
     "execution_count": 9,
     "metadata": {},
     "output_type": "execute_result"
    }
   ],
   "source": [
    "oldest_passengers = df[(df['Age'] == oldst_passengers_who_died_age) & (df['Survived'] == 0)][['PassengerId', 'Name', 'Age']]\n",
    "oldest_passengers.head()"
   ]
  },
  {
   "cell_type": "code",
   "execution_count": 10,
   "metadata": {},
   "outputs": [
    {
     "name": "stdout",
     "output_type": "stream",
     "text": [
      "The oldest passangers who died is Svensson, Mr. Johan\n"
     ]
    }
   ],
   "source": [
    "oldst_passengers_who_died_name = oldest_passengers['Name'].values[0]\n",
    "print(f\"The oldest passangers who died is {oldst_passengers_who_died_name}\")"
   ]
  },
  {
   "cell_type": "markdown",
   "metadata": {},
   "source": [
    "# Visualizing Categorical Data"
   ]
  },
  {
   "cell_type": "markdown",
   "metadata": {},
   "source": [
    "### Create a plot that gives us an idea how likely it was for passengers of different classes (1st, 2nd, 3rd) to survive."
   ]
  },
  {
   "cell_type": "code",
   "execution_count": 132,
   "metadata": {},
   "outputs": [],
   "source": [
    "def create_stacked_bar_plot():\n",
    "    # colors for the plot\n",
    "    alive_color = '#17becf' # teal\n",
    "    dead_color = '#7f7f7f'  # grey\n",
    "\n",
    "    # passenger class\n",
    "    group_class = set(df['Pclass'].values)\n",
    "\n",
    "    fig, ax = plt.subplots()\n",
    "    bottom = np.zeros(len(group_class))\n",
    "\n",
    "    for class_ in group_class :\n",
    "        survived = df[(df['Pclass'] == class_) & (df['Survived'] == 1)].shape[0]\n",
    "        total = df[df['Pclass'] == class_].shape[0]\n",
    "        ax.bar(class_, survived, bottom=bottom, label='Alive', color = alive_color)\n",
    "        ax.bar(class_, total-survived, bottom=survived, label=\"Dead\", color = dead_color)\n",
    "\n",
    "        # adding text\n",
    "        percentage = round(survived/total*100, 2)\n",
    "        ax.text(class_, survived/2, f'{percentage} %', ha='center', va='center', fontsize=10, color='white')\n",
    "\n",
    "    # naming the x-axis\n",
    "    ax.set_xticks(list(group_class))\n",
    "    ax.set_xticklabels([f'{cls}st' if cls == 1 else f'{cls}nd' if cls == 2 else f'{cls}rd' for cls in group_class])\n",
    "\n",
    "    ax.set_yticks(np.arange(0, 600, 50))\n",
    "\n",
    "\n",
    "    # labels and title\n",
    "    ax.set_title('Survival Rate by Passenger Class')\n",
    "    ax.set_xlabel('Passenger Class')\n",
    "    ax.set_ylabel('Number of Passengers in Class')\n",
    "\n",
    "    # adjust legend\n",
    "    handles, labels = ax.get_legend_handles_labels()\n",
    "    by_label = dict(zip(labels, handles))\n",
    "    ax.legend(by_label.values(), by_label.keys(), fontsize='medium')\n",
    "\n",
    "    plt.figtext(0.35, 0.73, \"x.x% - survival rate\", horizontalalignment='right', fontsize=10, color='black')\n",
    "    plt.show()\n",
    "\n",
    "\n",
    "def create_stacked_bar_plot_split_by_gender():\n",
    "       # colors\n",
    "       male_color = '#17becf' # teal\n",
    "       female_color = '#ff69b4' #pink\n",
    "\n",
    "       # data for looping\n",
    "       classes = sorted(df['Pclass'].unique())\n",
    "       genders = ['male', 'female']\n",
    "\n",
    "       # plot values\n",
    "       fig, ax = plt.subplots(figsize=(10, 6))\n",
    "       bar_width = 0.35\n",
    "       x = np.arange(len(classes))\n",
    "\n",
    "       for i, gender in enumerate(genders):\n",
    "              for j, cls in enumerate(classes):\n",
    "                     survived = df[(df['Pclass'] == cls) & (df['Survived'] == 1) & (df['Sex'] == gender)].shape[0]\n",
    "                     total = df[(df['Pclass'] == cls) & (df['Sex'] == gender)].shape[0]\n",
    "\n",
    "                     # plot the bar for each class and each gender\n",
    "                     ax.bar(x[j] + (i - 0.5) * bar_width, survived, bar_width,\n",
    "                            label=f'Survived ({gender.capitalize()})', color=male_color if gender == 'male' else female_color)\n",
    "                     ax.bar(x[j] + (i - 0.5) * bar_width, total - survived, bar_width, bottom=survived,\n",
    "                            label=f'Not Survived ({gender.capitalize()})', color=male_color if gender == 'male' else female_color, alpha=0.4)\n",
    "\n",
    "                     # adding text\n",
    "                     percentage = round(survived/total*100, 2)\n",
    "                     ax.text(x[j] + (i - 0.5) * bar_width, survived / 2, f\"{percentage}%\", ha='center', va='center', color='white', fontsize=10)\n",
    "\n",
    "       # naming the x-axis\n",
    "       ax.set_xticks(x)\n",
    "       ax.set_xticklabels([f'{cls}st' if cls == 1 else f'{cls}nd' if cls == 2 else f'{cls}rd' for cls in classes])\n",
    "       ax.set_xlabel('Passenger Class')\n",
    "\n",
    "       # naming the y-axis\n",
    "       ax.set_ylabel('Number of Passengers in Class')\n",
    "\n",
    "       # naming the plot\n",
    "       ax.set_title('Survival Rate by Passenger Class and Gender')\n",
    "\n",
    "       # adding the legend\n",
    "       handles, labels = ax.get_legend_handles_labels()\n",
    "       by_label = dict(zip(labels, handles))\n",
    "       ax.legend(by_label.values(), by_label.keys(), fontsize='medium', loc='upper left')\n",
    "\n",
    "       # adding the text\n",
    "       plt.figtext(0.27, 0.70, \"x.x% - survival rate\", horizontalalignment='right', fontsize=10, color='black')\n",
    "\n",
    "       plt.show()"
   ]
  },
  {
   "cell_type": "markdown",
   "metadata": {},
   "source": [
    "#### Stacked bar plot"
   ]
  },
  {
   "cell_type": "code",
   "execution_count": 133,
   "metadata": {},
   "outputs": [
    {
     "data": {
      "image/png": "[encoded data removed]",
      "text/plain": [
       "<Figure size 640x480 with 1 Axes>"
      ]
     },
     "metadata": {},
     "output_type": "display_data"
    }
   ],
   "source": [
    "create_stacked_bar_plot()"
   ]
  },
  {
   "cell_type": "markdown",
   "metadata": {},
   "source": [
    "#### Stacked bar plot (grouped also by gener)"
   ]
  },
  {
   "cell_type": "code",
   "execution_count": 131,
   "metadata": {},
   "outputs": [
    {
     "data": {
      "image/png": "[encoded data removed]",
      "text/plain": [
       "<Figure size 1000x600 with 1 Axes>"
      ]
     },
     "metadata": {},
     "output_type": "display_data"
    }
   ],
   "source": [
    "create_stacked_bar_plot_split_by_gender()"
   ]
  },
  {
   "cell_type": "markdown",
   "metadata": {},
   "source": [
    "### Visualizing passengers’ journeys using their embarking locations and their survival status (think voter-flow analysis)"
   ]
  },
  {
   "cell_type": "code",
   "execution_count": 13,
   "metadata": {},
   "outputs": [],
   "source": [
    "# TODO"
   ]
  },
  {
   "cell_type": "markdown",
   "metadata": {},
   "source": [
    "### Make up one additional question yourself and come up with a fitting plot to answer it!"
   ]
  },
  {
   "cell_type": "code",
   "execution_count": 14,
   "metadata": {},
   "outputs": [],
   "source": [
    "# TODO"
   ]
  }
 ],
 "metadata": {
  "kernelspec": {
   "display_name": "Python 3",
   "language": "python",
   "name": "python3"
  },
  "language_info": {
   "codemirror_mode": {
    "name": "ipython",
    "version": 3
   },
   "file_extension": ".py",
   "mimetype": "text/x-python",
   "name": "python",
   "nbconvert_exporter": "python",
   "pygments_lexer": "ipython3",
   "version": "3.12.0"
  }
 },
 "nbformat": 4,
 "nbformat_minor": 2
}
